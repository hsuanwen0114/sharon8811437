{
 "cells": [
  {
   "cell_type": "code",
   "execution_count": 3,
   "metadata": {},
   "outputs": [
    {
     "data": {
      "text/plain": [
       "[3, 5, 7, 13, 22, 78, 99]"
      ]
     },
     "execution_count": 3,
     "metadata": {},
     "output_type": "execute_result"
    }
   ],
   "source": [
    "def quick_sort(aaa):\n",
    "    smaller=[]#比基準值小\n",
    "    bigger=[]#比基準值大\n",
    "    keypoint=[]#key值\n",
    "    \n",
    "    if len(aaa)<=1:\n",
    "        return aaa\n",
    "    else:\n",
    "        key=aaa[0]#以第一個位置當基準點\n",
    "        for h in aaa:\n",
    "            if h<key:\n",
    "                smaller.append(h)\n",
    "            elif h>key:\n",
    "                bigger.append(h)\n",
    "            else:\n",
    "                keypoint.append(h)\n",
    "    smaller=quick_sort(smaller)\n",
    "    bigger=quick_sort(bigger)\n",
    "    \n",
    "    return smaller+keypoint+bigger\n",
    "    #排序完的aaa要返回\n",
    "\n",
    "aaa=[22,13,5,7,78,99,3]\n",
    "quick_sort(aaa)"
   ]
  },
  {
   "cell_type": "code",
   "execution_count": null,
   "metadata": {},
   "outputs": [],
   "source": []
  }
 ],
 "metadata": {
  "kernelspec": {
   "display_name": "Python 3",
   "language": "python",
   "name": "python3"
  },
  "language_info": {
   "codemirror_mode": {
    "name": "ipython",
    "version": 3
   },
   "file_extension": ".py",
   "mimetype": "text/x-python",
   "name": "python",
   "nbconvert_exporter": "python",
   "pygments_lexer": "ipython3",
   "version": "3.6.4"
  }
 },
 "nbformat": 4,
 "nbformat_minor": 2
}
